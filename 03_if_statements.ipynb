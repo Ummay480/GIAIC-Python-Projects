{
  "nbformat": 4,
  "nbformat_minor": 0,
  "metadata": {
    "colab": {
      "provenance": [],
      "authorship_tag": "ABX9TyP3cQvRB178PxcKnSZt9DPF",
      "include_colab_link": true
    },
    "kernelspec": {
      "name": "python3",
      "display_name": "Python 3"
    },
    "language_info": {
      "name": "python"
    }
  },
  "cells": [
    {
      "cell_type": "markdown",
      "metadata": {
        "id": "view-in-github",
        "colab_type": "text"
      },
      "source": [
        "<a href=\"https://colab.research.google.com/github/Ummay480/GIAIC-Python-Projects/blob/main/03_if_statements.ipynb\" target=\"_parent\"><img src=\"https://colab.research.google.com/assets/colab-badge.svg\" alt=\"Open In Colab\"/></a>"
      ]
    },
    {
      "cell_type": "markdown",
      "source": [
        "# **01_print_events**\n",
        "\n",
        "Problem Statement\n",
        "Write a program that prints the first 20 even numbers. There are several correct approaches, but they all use a loop of some sort. Do no write twenty print statements\n",
        "\n",
        "The first even number is 0:\n",
        "\n",
        "0 2 4 6 8 10 12 14 16 18 20 22 24 26 28 30 32 34 36 38"
      ],
      "metadata": {
        "id": "6k2_Dznbums5"
      }
    },
    {
      "cell_type": "code",
      "execution_count": 2,
      "metadata": {
        "id": "r_YBhvyWuRFt",
        "colab": {
          "base_uri": "https://localhost:8080/"
        },
        "outputId": "4e8ec2b8-4467-4543-8682-02ec4125d61b"
      },
      "outputs": [
        {
          "output_type": "stream",
          "name": "stdout",
          "text": [
            "01_print_events\n",
            "0\n",
            "The first even number is 0:\n",
            "2\n",
            "The first even number is 0:\n",
            "4\n",
            "The first even number is 0:\n",
            "6\n",
            "The first even number is 0:\n",
            "8\n",
            "The first even number is 0:\n",
            "10\n",
            "The first even number is 0:\n",
            "12\n",
            "The first even number is 0:\n",
            "14\n",
            "The first even number is 0:\n",
            "16\n",
            "The first even number is 0:\n",
            "18\n",
            "The first even number is 0:\n",
            "20\n",
            "The first even number is 0:\n",
            "22\n",
            "The first even number is 0:\n",
            "24\n",
            "The first even number is 0:\n",
            "26\n",
            "The first even number is 0:\n",
            "28\n",
            "The first even number is 0:\n",
            "30\n",
            "The first even number is 0:\n",
            "32\n",
            "The first even number is 0:\n",
            "34\n",
            "The first even number is 0:\n",
            "36\n",
            "The first even number is 0:\n",
            "38\n",
            "The first even number is 0:\n",
            "40\n",
            "The first even number is 0:\n",
            "42\n",
            "The first even number is 0:\n",
            "44\n",
            "The first even number is 0:\n",
            "46\n",
            "The first even number is 0:\n",
            "48\n",
            "The first even number is 0:\n",
            "50\n",
            "The first even number is 0:\n",
            "52\n",
            "The first even number is 0:\n",
            "54\n",
            "The first even number is 0:\n",
            "56\n",
            "The first even number is 0:\n",
            "58\n",
            "The first even number is 0:\n",
            "60\n",
            "The first even number is 0:\n",
            "62\n",
            "The first even number is 0:\n",
            "64\n",
            "The first even number is 0:\n",
            "66\n",
            "The first even number is 0:\n",
            "68\n",
            "The first even number is 0:\n",
            "70\n",
            "The first even number is 0:\n",
            "72\n",
            "The first even number is 0:\n",
            "74\n",
            "The first even number is 0:\n",
            "76\n",
            "The first even number is 0:\n",
            "78\n",
            "The first even number is 0:\n"
          ]
        }
      ],
      "source": [
        "print(\"01_print_events\")\n",
        "\n",
        "def even():\n",
        "  for i in range(40):\n",
        "    even = i * 2\n",
        "    print(even)\n",
        "    message = \"The first even number is 0:\"\n",
        "    print(message)\n",
        "\n",
        "if __name__ == \"__main__\":\n",
        "    even()\n"
      ]
    },
    {
      "cell_type": "markdown",
      "source": [
        "# **/02_international_voting_age**\n",
        "\n",
        "Problem Statement\n",
        "Write a program which asks a user for their age and lets them know if they can or can't vote in the following three fictional countries.\n",
        "\n",
        "Around the world, different countries have different voting ages. In the fictional countries of Peturksbouipo, Stanlau, and Mayengua, the voting ages are very different:\n",
        "\n",
        "the voting age in Peturksbouipo is 16 (in real life, this is the voting age in, for example, Scotland, Ethiopia, and Austria)\n",
        "\n",
        "the voting age in Stanlau is 25 (in real life this is the voting age in the United Arab Emirates)\n",
        "\n",
        "the voting age in Mayengua is 48 (in real life, as far as we can tell, this isn't the voting age anywhere)\n",
        "\n",
        "Your code should prompt the for their age and print whether or not they can vote in Peturksbouipo, Stanlau, or Mayengua.\n",
        "\n",
        "Here's a sample run of the program (user input is in blue):\n",
        "\n",
        "How old are you? 20 You can vote in Peturksbouipo where the voting age is 16. You cannot vote in Stanlau where the voting age is 25. You cannot vote in Mayengua where the voting age is 48.\n"
      ],
      "metadata": {
        "id": "5f_tbZLJujR6"
      }
    },
    {
      "cell_type": "code",
      "source": [
        "print(\"02_international_voting_age\")\n",
        "\n",
        "Peturksbouipo:int = 16\n",
        "Stanlau:int = 25\n",
        "Mayengua:int = 48\n",
        "\n",
        "def main():\n",
        "  age:int = int(input(\"How old are you? \"))\n",
        "  if age >= Peturksbouipo:\n",
        "    print(f\"your age is {age} You are eligible for vote in Peturksbouipo where the voting age is {Peturksbouipo}.\")\n",
        "  else:\n",
        "      print(f\"your age is {age} You are not eligible for vote in Stanlau\")\n",
        "  if age >= Stanlau:\n",
        "    print(f\"your age is {age} You are eligible for vote in Stanlau where the voting age is {Peturksbouipo}.\")\n",
        "  else:\n",
        "    print(f\"your age is {age} You are not eligible for vote in Stanlau\")\n",
        "\n",
        "  if age >= Mayengua:\n",
        "    print(f\"your age is {age} You are eligible for vote in Mayengua where the voting age is {Peturksbouipo}.\")\n",
        "  else:\n",
        "    print(f\"your age is {age} You are not eligible for vote in Mayengua\")\n",
        "if __name__ == \"__main__\":\n",
        "    main()\n"
      ],
      "metadata": {
        "id": "Smedmiynv0yf",
        "colab": {
          "base_uri": "https://localhost:8080/"
        },
        "outputId": "a63530cf-9f15-46be-84f2-0e5f6cb159e1"
      },
      "execution_count": 5,
      "outputs": [
        {
          "output_type": "stream",
          "name": "stdout",
          "text": [
            "02_international_voting_age\n",
            "How old are you? 48\n",
            "your age is 48 You are eligible for vote in Peturksbouipo where the voting age is 16.\n",
            "your age is 48 You are eligible for vote in Stanlau where the voting age is 16.\n",
            "your age is 48 You are eligible for vote in Mayengua where the voting age is 16.\n"
          ]
        }
      ]
    },
    {
      "cell_type": "markdown",
      "source": [
        "# 03_leap_year\n",
        "\n",
        "Problem Statement\n",
        "Write a program that reads a year from the user and tells whether a given year is a leap year or not.\n",
        "\n",
        "A leap year (also known as an intercalary year or bissextile year) is a calendar year that contains an additional day (or, in the case of a lunisolar calendar, a month) added to keep the calendar year synchronized with the astronomical year or seasonal year. In the Gregorian calendar, each leap year has 366 days instead of 365, by extending February to 29 days rather than the common 28.\n",
        "\n",
        "In the Gregorian calendar, three criteria must be checked to identify leap years:\n",
        "\n",
        "The given year must be evenly divisible by 4;\n",
        "If the year can also be evenly divided by 100, it is NOT a leap year; unless:\n",
        "The year is also evenly divisible by 400. Then it is a leap year.\n",
        "Your code should use the above criteria to check for a leap year and then print either \"That's a leap year!\" or \"That's not a leap year.\"\n"
      ],
      "metadata": {
        "id": "KsnrZTEHwxlz"
      }
    },
    {
      "cell_type": "code",
      "source": [
        "print(\"03_leap_year.\")\n",
        "\n",
        "def leap_year():\n",
        "  year:int = int(input(\"Enter the year: \"))\n",
        "  if year % 4 == 0:\n",
        "    if year % 100 == 0:\n",
        "      if year % 400 != 0:\n",
        "\n",
        "        print(f\"{year} is a leap year!\")\n",
        "      else:\n",
        "        print(f\"{year} is not a leap year.\")\n",
        "  else:\n",
        "    print(f\"{year} is not a leap year.\")\n",
        "\n",
        "\n",
        "if __name__ == \"__main__\":\n",
        "    leap_year()"
      ],
      "metadata": {
        "id": "bujUHCN1w4Eg",
        "colab": {
          "base_uri": "https://localhost:8080/"
        },
        "outputId": "d53be85e-206c-4394-dac3-f5d8f052ad0b"
      },
      "execution_count": 8,
      "outputs": [
        {
          "output_type": "stream",
          "name": "stdout",
          "text": [
            "03_leap_year.\n",
            "Enter the year: 2035\n",
            "2035 is not a leap year.\n"
          ]
        }
      ]
    },
    {
      "cell_type": "markdown",
      "source": [
        "# **04_tall_enough_to_ride**\n",
        "\n",
        "Problem Statement\n",
        "Write a program which asks the user how tall they are and prints whether or not they're taller than a pre-specified minimum height.\n",
        "\n",
        "In amusement parks (ah, the good old pre-pandemic days...), rollercoasters frequently have minimum height requirements for safety reasons. Assume for now that the minimum height is 50 of whatever height unit you'd like\n",
        "\n",
        "Here's two sample runs (user input is in bold italics):\n",
        "\n",
        "How tall are you? 100\n",
        "\n",
        "You're tall enough to ride!\n",
        "\n",
        "How tall are you? 10\n",
        "\n",
        "You're not tall enough to ride, but maybe next year!\n",
        "\n",
        "(For an extra challenge, write code which will repeatedly ask a user how tall they are and tell them whether or not they're tall enough to ride, until the user doesn't enter a height at all, in which case the program stops. Curious about how to do this? See the function tall_enough_extension() in the solution code!)"
      ],
      "metadata": {
        "id": "cMQdVe1FxgAn"
      }
    },
    {
      "cell_type": "code",
      "source": [
        "print(\"04_tall_enough_to_ride\")\n",
        "\n",
        "min_height:int=50\n",
        "\n",
        "def main():\n",
        "  user_height:int = int(input(\"How tall are you? \"))\n",
        "  if user_height >= min_height:\n",
        "    print(\"You're tall enough to ride!\")\n",
        "  else:\n",
        "    print(\"You're not tall enough to ride, but maybe next year!\")\n",
        "\n",
        "if __name__ == \"__main__\":\n",
        "        main()\n"
      ],
      "metadata": {
        "id": "3pNvfxKLxx6U",
        "colab": {
          "base_uri": "https://localhost:8080/"
        },
        "outputId": "66a92712-7ce4-4f11-cc72-ac94435a41e1"
      },
      "execution_count": 10,
      "outputs": [
        {
          "output_type": "stream",
          "name": "stdout",
          "text": [
            "04_tall_enough_to_ride\n",
            "How tall are you? 40\n",
            "You're not tall enough to ride, but maybe next year!\n"
          ]
        }
      ]
    },
    {
      "cell_type": "markdown",
      "source": [
        "# **05_random_numbers**\n",
        "\n",
        "Problem Statement\n",
        "Print 10 random numbers in the range 1 to 100.\n",
        "\n",
        "Here is an example run:\n",
        "\n",
        "45 79 61 47 52 10 16 83 19 12\n",
        "\n",
        "Each time you run your program you should get different numbers\n",
        "\n",
        "81 76 70 1 27 63 96 100 32 92\n",
        "\n",
        "Recall that the python random library has a function randint which returns an integer in the range set by the parameters (inclusive). For example this call would produce a random integer between 1 and 6, which could include 1 and could include 6:\n",
        "\n",
        "value = random.randint(1, 6)"
      ],
      "metadata": {
        "id": "My2ezHn9x0XB"
      }
    },
    {
      "cell_type": "code",
      "source": [
        "print(\"05_random_numbers\")\n",
        "import random\n",
        "\n",
        "def main():\n",
        "  for i in range(10):\n",
        "    num:list[int] = random.randint(1, 100)\n",
        "    print(num)\n",
        "\n",
        "if __name__ == \"__main__\":\n",
        "    main()\n"
      ],
      "metadata": {
        "colab": {
          "base_uri": "https://localhost:8080/"
        },
        "id": "XIwvRYtPZxGt",
        "outputId": "d347a0a5-6791-46f1-b074-e4176d053a1a"
      },
      "execution_count": 12,
      "outputs": [
        {
          "output_type": "stream",
          "name": "stdout",
          "text": [
            "05_random_numbers\n",
            "33\n",
            "80\n",
            "60\n",
            "69\n",
            "57\n",
            "76\n",
            "36\n",
            "63\n",
            "40\n",
            "44\n"
          ]
        }
      ]
    }
  ]
}
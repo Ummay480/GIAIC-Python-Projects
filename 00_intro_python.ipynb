{
  "nbformat": 4,
  "nbformat_minor": 0,
  "metadata": {
    "colab": {
      "provenance": [],
      "authorship_tag": "ABX9TyMGRy+9kVyeWkfavOoKYUQS",
      "include_colab_link": true
    },
    "kernelspec": {
      "name": "python3",
      "display_name": "Python 3"
    },
    "language_info": {
      "name": "python"
    }
  },
  "cells": [
    {
      "cell_type": "markdown",
      "metadata": {
        "id": "view-in-github",
        "colab_type": "text"
      },
      "source": [
        "<a href=\"https://colab.research.google.com/github/Ummay480/GIAIC-Python-Projects/blob/main/00_intro_python.ipynb\" target=\"_parent\"><img src=\"https://colab.research.google.com/assets/colab-badge.svg\" alt=\"Open In Colab\"/></a>"
      ]
    },
    {
      "cell_type": "code",
      "execution_count": null,
      "metadata": {
        "colab": {
          "base_uri": "https://localhost:8080/"
        },
        "id": "BgD_XzVFsgKO",
        "outputId": "211ed9b4-172e-434c-b7f8-0f94693bea6e"
      },
      "outputs": [
        {
          "output_type": "stream",
          "name": "stdout",
          "text": [
            "01_add_two_numbers\n",
            "This application for add two numbers\n",
            "Enter your first number: 9\n",
            "Enter your second number: 8\n",
            "The sum of 9 and 8 is 17\n"
          ]
        }
      ],
      "source": [
        "print(\"01_add_two_numbers\")\n",
        "\n",
        "def add():\n",
        "  print(\"This application for add two numbers\")\n",
        "  first_number = int(input(\"Enter your first number: \"))\n",
        "  second_number = int(input(\"Enter your second number: \"))\n",
        "  total = int(first_number +second_number)\n",
        "  print(f\"The sum of {first_number} and {second_number} is {total}\")\n",
        "\n",
        "if __name__ == \"__main__\":\n",
        "    add()"
      ]
    },
    {
      "cell_type": "code",
      "source": [
        "print(\"02_agreement_bot\")\n",
        "\n",
        "def bot():\n",
        "  animal = str(input(\"What's your favorite animal? \"))\n",
        "  print(f\"My favorite animal is {animal} also!\")\n",
        "\n",
        "if __name__ == \"__main__\":\n",
        " bot()\n"
      ],
      "metadata": {
        "colab": {
          "base_uri": "https://localhost:8080/"
        },
        "id": "xI1bqLDA5JA7",
        "outputId": "b78e1cb5-c533-4f5c-bb09-e4bf93552594"
      },
      "execution_count": null,
      "outputs": [
        {
          "output_type": "stream",
          "name": "stdout",
          "text": [
            "02_agreement_bot\n",
            "What's your favorite animal? deer\n",
            "My favorite animal is deer also!\n"
          ]
        }
      ]
    },
    {
      "cell_type": "code",
      "source": [
        "print(\"03_fahrenheit_to_celsius\")\n",
        "\n",
        "def temp():\n",
        "  print(\"This code for converting Fahrenheit to Celsius\")\n",
        "  fahrenheit_degree = float(input(\"Enter your Fahrenheit_degree \"))\n",
        "  celsius_degree = (fahrenheit_degree - 32) * 5.0/9.0\n",
        "  print(f\" Temprature {fahrenheit_degree} F = {celsius_degree}C \")\n",
        "\n",
        "if __name__ == \"__main__\":\n",
        " temp()\n"
      ],
      "metadata": {
        "colab": {
          "base_uri": "https://localhost:8080/"
        },
        "id": "zNS1nr_K79zk",
        "outputId": "01e8114c-41a5-4836-b425-7022a9047bee"
      },
      "execution_count": null,
      "outputs": [
        {
          "output_type": "stream",
          "name": "stdout",
          "text": [
            "03_fahrenheit_to_celsius\n",
            "This code for converting Fahrenheit to Celsius\n",
            "Enter your Fahrenheit_degree; 88\n",
            " Temprature 88.0 F = 31.11111111111111C \n"
          ]
        }
      ]
    },
    {
      "cell_type": "markdown",
      "source": [
        "# **04_how_old_are_they**\n",
        "\n",
        "Problem Statement\n",
        "Write a program to solve this age-related riddle!\n",
        "\n",
        "Anton, Beth, Chen, Drew, and Ethan are all friends. Their ages are as follows:\n",
        "\n",
        "Anton is 21 years old.\n",
        "\n",
        "Beth is 6 years older than Anton.\n",
        "\n",
        "Chen is 20 years older than Beth.\n",
        "\n",
        "Drew is as old as Chen's age plus Anton's age.\n",
        "\n",
        "Ethan is the same age as Chen.\n",
        "\n",
        "Your code should store each person's age to a variable and print their names and ages at the end. The autograder is sensitive to capitalization and punctuation, be careful! Your solution should look like this (the below numbers are made up -- your solution should have the correct values!):"
      ],
      "metadata": {
        "id": "c2Lw-2PUmRMm"
      }
    },
    {
      "cell_type": "code",
      "source": [
        "print (\"04_how_old_are_they\")\n",
        "\n",
        "def add_ages():\n",
        "    anton: int = 21  # Anton's age is given as 21 years old\n",
        "    beth: int = 6 + anton  # Beth is 6 years older than Anton\n",
        "    chen: int = 20 + beth  # Chen is 20 years older than Beth\n",
        "    drew: int = chen + anton  # Drew is as old as Chen plus Anton\n",
        "    ethan: int = chen  # Ethan is the same age as Chen\n",
        "\n",
        "    print(\"Anton is\", anton, \"years old.\")\n",
        "    print(\"Beth is\", beth, \"years old.\")\n",
        "    print(\"Chen is\", chen, \"years old.\")\n",
        "    print(\"Drew is\", drew, \"years old.\")\n",
        "    print(\"Ethan is\", ethan, \"years old.\")\n",
        "\n",
        "if __name__ == \"__main__\":\n",
        "  add_ages()\n"
      ],
      "metadata": {
        "colab": {
          "base_uri": "https://localhost:8080/"
        },
        "id": "WycQIhdwmYkM",
        "outputId": "9d806c03-c153-4e68-89a1-1dbebd453a97"
      },
      "execution_count": null,
      "outputs": [
        {
          "output_type": "stream",
          "name": "stdout",
          "text": [
            "04_how_old_are_they\n",
            "Anton is 21 years old.\n",
            "Beth is 27 years old.\n",
            "Chen is 47 years old.\n",
            "Drew is 68 years old.\n",
            "Ethan is 47 years old.\n"
          ]
        }
      ]
    },
    {
      "cell_type": "markdown",
      "source": [
        "# **05_triangle_perimeter**\n",
        "\n",
        "Problem Statement\n",
        "Prompt the user to enter the lengths of each side of a triangle and then calculate and print the perimeter of the triangle (the sum of all of the side lengths).\n",
        "\n",
        "Here's a sample run of the program (user input is in bold italics):\n",
        "\n",
        "What is the length of side 1? 3\n",
        "\n",
        "What is the length of side 2? 4\n",
        "\n",
        "What is the length of side 3? 5.5\n",
        "\n",
        "The perimeter of the triangle is 12.5"
      ],
      "metadata": {
        "id": "MnOnKlgP0-Bm"
      }
    },
    {
      "cell_type": "code",
      "source": [
        "print(\"05_triangle_perimeter\")\n",
        "\n",
        "def triangle():\n",
        "  print(\"This code is about the sum of triangle sides\")\n",
        "  side1: float = float(input(\"Enter the first number of side 1? \"))\n",
        "  side2: float = float(input(\"Enter the second number of side 2?\"))\n",
        "  side3: float = float(input(\"Enter is the third number of side 3?\"))\n",
        "  total:float = (side1 + side2 + side3)\n",
        "  print(f\"The perimeter of the triangle is {total}\")\n",
        "\n",
        "if __name__ == \"__main__\":\n",
        "  triangle()\n"
      ],
      "metadata": {
        "colab": {
          "base_uri": "https://localhost:8080/"
        },
        "id": "0ZsZ_u1e1XoF",
        "outputId": "b6da5683-0006-4b03-9cdb-7b802f877d4a"
      },
      "execution_count": null,
      "outputs": [
        {
          "output_type": "stream",
          "name": "stdout",
          "text": [
            "05_triangle_perimeter\n",
            "This code is about the sum of triangle sides\n",
            "Enter the first number of side 1? 6\n",
            "Enter the second number of side 2?8\n",
            "Enter is the third number of side 3?9\n",
            "The perimeter of the triangle is 23.0\n"
          ]
        }
      ]
    },
    {
      "cell_type": "markdown",
      "source": [
        "# **06_square_number.**\n",
        "\n",
        "Problem Statement\n",
        "Ask the user for a number and print its square (the product of the number times itself).\n",
        "\n",
        "Here's a sample run of the program (user input is in bold italics):\n",
        "\n",
        "Type a number to see its square: 4\n",
        "\n",
        "4.0 squared is 16.0"
      ],
      "metadata": {
        "id": "I1XV5fuXBO5T"
      }
    },
    {
      "cell_type": "code",
      "source": [
        "print(\"06_square_number.\")\n",
        "\n",
        "def square():\n",
        "  print(\"This code is about the square of number\")\n",
        "  number: float = float(input(\"Type a number to see its square: \"))\n",
        "  square: float = number * number\n",
        "  print(f\"{number} squared is {square}\")\n",
        "\n",
        "if __name__ == \"__main__\":\n",
        "  square()\n"
      ],
      "metadata": {
        "id": "26Mr6t4EBhi1",
        "colab": {
          "base_uri": "https://localhost:8080/"
        },
        "outputId": "dff05c21-2a5f-46bc-910a-75e3a746bb64"
      },
      "execution_count": 10,
      "outputs": [
        {
          "output_type": "stream",
          "name": "stdout",
          "text": [
            "06_square_number.\n",
            "This code is about the square of number\n",
            "Type a number to see its square: 5\n",
            "5.0 squared is 25.0\n"
          ]
        }
      ]
    }
  ]
}
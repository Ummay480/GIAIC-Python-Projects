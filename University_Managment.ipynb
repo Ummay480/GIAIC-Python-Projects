{
  "nbformat": 4,
  "nbformat_minor": 0,
  "metadata": {
    "colab": {
      "provenance": [],
      "authorship_tag": "ABX9TyN4CT1g5mEaapjm2IPF/y6D",
      "include_colab_link": true
    },
    "kernelspec": {
      "name": "python3",
      "display_name": "Python 3"
    },
    "language_info": {
      "name": "python"
    }
  },
  "cells": [
    {
      "cell_type": "markdown",
      "metadata": {
        "id": "view-in-github",
        "colab_type": "text"
      },
      "source": [
        "<a href=\"https://colab.research.google.com/github/Ummay480/GIAIC-Python-Projects/blob/main/University_Managment.ipynb\" target=\"_parent\"><img src=\"https://colab.research.google.com/assets/colab-badge.svg\" alt=\"Open In Colab\"/></a>"
      ]
    },
    {
      "cell_type": "markdown",
      "source": [
        "University managment system\n",
        "Entities\n",
        "Students\n",
        "Courses\n",
        "Instructors\n",
        "Departments\n"
      ],
      "metadata": {
        "id": "0fNIS9T0E-yh"
      }
    },
    {
      "cell_type": "code",
      "execution_count": 3,
      "metadata": {
        "colab": {
          "base_uri": "https://localhost:8080/"
        },
        "id": "e4zmjMBiEy27",
        "outputId": "b99cd6a3-8b31-4099-a3e5-f7c2b5b81b40"
      },
      "outputs": [
        {
          "output_type": "stream",
          "name": "stdout",
          "text": [
            "Instructor Ali assigned to Math\n",
            "Instructor Ahmed assigned to Physics\n",
            "John registered for Math\n",
            "Jane registered for Physics\n",
            "\n",
            "Course Physics students:\n",
            " - Jane\n",
            "\n",
            "Course Physics instructor:\n",
            " - Ahmed\n"
          ]
        }
      ],
      "source": [
        "class Person:\n",
        "    def __init__(self, name, age):\n",
        "        self.name = name\n",
        "        self.age = age\n",
        "\n",
        "    def get_details(self):\n",
        "        return f\"Name: {self.name}, Age: {self.age}\"\n",
        "\n",
        "    def get_name(self):\n",
        "        return self.name\n",
        "\n",
        "\n",
        "class Student(Person):\n",
        "    def __init__(self, name, age, roll_no):\n",
        "        super().__init__(name, age)\n",
        "        self.roll_no = roll_no\n",
        "        self.courses = []\n",
        "\n",
        "    def register_course(self, course):\n",
        "        self.courses.append(course)\n",
        "        course.students.append(self)\n",
        "        print(f\"{self.name} registered for {course.name}\")\n",
        "\n",
        "\n",
        "class Instructor(Person):\n",
        "    def __init__(self, name, age, salary):\n",
        "        super().__init__(name, age)\n",
        "        self.salary = salary\n",
        "        self.courses = []\n",
        "\n",
        "    def add_course(self, course):\n",
        "        self.courses.append(course)\n",
        "        course.instructor = self\n",
        "        print(f\"Instructor {self.name} assigned to {course.name}\")\n",
        "\n",
        "\n",
        "class Course:\n",
        "    def __init__(self, name, course_id):\n",
        "        self.course_id = course_id\n",
        "        self.name = name\n",
        "        self.students = []\n",
        "        self.instructor = None\n",
        "\n",
        "\n",
        "# Object creation\n",
        "instructor1 = Instructor(\"Ali\", 35, 50000)\n",
        "instructor2 = Instructor(\"Ahmed\", 40, 60000)\n",
        "\n",
        "student1 = Student(\"John\", 18, 1234)\n",
        "student2 = Student(\"Jane\", 19, 1235)\n",
        "\n",
        "course1 = Course(\"Math\", 101)\n",
        "course2 = Course(\"Physics\", 102)\n",
        "\n",
        "instructor1.add_course(course1)\n",
        "instructor2.add_course(course2)\n",
        "\n",
        "student1.register_course(course1)\n",
        "student2.register_course(course2)\n",
        "\n",
        "# Print student names in course2\n",
        "print(f\"\\nCourse {course2.name} students:\")\n",
        "for student in course2.students:\n",
        "    print(f\" - {student.get_name()}\")\n",
        "\n",
        "# Print instructor for course2\n",
        "print(f\"\\nCourse {course2.name} instructor:\")\n",
        "if course2.instructor:\n",
        "    print(f\" - {course2.instructor.get_name()}\")\n"
      ]
    }
  ]
}
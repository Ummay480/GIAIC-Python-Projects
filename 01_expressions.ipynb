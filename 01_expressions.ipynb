{
  "nbformat": 4,
  "nbformat_minor": 0,
  "metadata": {
    "colab": {
      "provenance": [],
      "authorship_tag": "ABX9TyPQuVKMyeI1G+ksP7u7aL0u",
      "include_colab_link": true
    },
    "kernelspec": {
      "name": "python3",
      "display_name": "Python 3"
    },
    "language_info": {
      "name": "python"
    }
  },
  "cells": [
    {
      "cell_type": "markdown",
      "metadata": {
        "id": "view-in-github",
        "colab_type": "text"
      },
      "source": [
        "<a href=\"https://colab.research.google.com/github/Ummay480/GIAIC-Python-Projects/blob/main/01_expressions.ipynb\" target=\"_parent\"><img src=\"https://colab.research.google.com/assets/colab-badge.svg\" alt=\"Open In Colab\"/></a>"
      ]
    },
    {
      "cell_type": "markdown",
      "source": [
        "# **01_dicesimulator.**\n",
        "\n",
        "Problem Statement\n",
        "Simulate rolling two dice, three times. Prints the results of each die roll. This program is used to show how variable scope works."
      ],
      "metadata": {
        "id": "BnsZr6lJZv5p"
      }
    },
    {
      "cell_type": "code",
      "source": [
        "import random\n",
        "print (\"01_dicesimulator\")\n",
        "\n",
        "def roll_dice():\n",
        "  die1:int = random.randint(1,6)\n",
        "  die2:int = random.randint(1,6)\n",
        "  total:int = die1 + die2\n",
        "  print(f\"Total of two dies:{total}\")\n",
        "\n",
        "def main():\n",
        "   die1: int = 10\n",
        "   print(\"diel in main() start as :\" + str(die1))\n",
        "   roll_dice()\n",
        "   roll_dice()\n",
        "   roll_dice()\n",
        "   print(\"diel in main()is :\" + str(die1))\n",
        "\n",
        "if __name__ == \"__main__\":\n",
        "   main()\n",
        "\n"
      ],
      "metadata": {
        "colab": {
          "base_uri": "https://localhost:8080/"
        },
        "id": "zbGauFz_aEtN",
        "outputId": "922fd8cc-22fe-4892-86e5-0d4f47554eea"
      },
      "execution_count": 12,
      "outputs": [
        {
          "output_type": "stream",
          "name": "stdout",
          "text": [
            "01_dicesimulator\n",
            "diel in main() start as :10\n",
            "Total of two dies:5\n",
            "Total of two dies:9\n",
            "Total of two dies:8\n",
            "diel in main()is :10\n"
          ]
        }
      ]
    },
    {
      "cell_type": "markdown",
      "source": [
        "# **02_e=mc2**\n",
        "\n",
        "Problem Statement\n",
        "Write a program that continually reads in mass from the user and then outputs the equivalent energy using Einstein's mass-energy equivalence formula (E stands for energy, m stands for mass, and C is the speed of light:\n",
        "\n",
        "E = m * c**2\n",
        "\n",
        "Almost 100 years ago, Albert Einstein famously discovered that mass and energy are interchangeable and are related by the above equation. You should ask the user for mass (m) in kilograms and use a constant value for the speed of light -- C = 299792458 m/s.\n",
        "\n",
        "Here's a sample run of the program (user input is in bold italics):\n",
        "\n",
        "Enter kilos of mass: 100\n",
        "\n",
        "e = m * C^2...\n",
        "\n",
        "m = 100.0 kg\n",
        "\n",
        "C = 299792458 m/s\n",
        "\n",
        "8.987551787368176e+18 joules of energy!"
      ],
      "metadata": {
        "id": "XyMzSD7PccPm"
      }
    },
    {
      "cell_type": "code",
      "source": [
        "print(\"02_e=mc2\")\n",
        "\n",
        "def energy():\n",
        "  c = 299792458\n",
        "  m = float(input(\"Enter kilos of mass: \"))\n",
        "  print(\"e = m * C^2\")\n",
        "  print(\"Mass :\" + str(m) + \"kg\")\n",
        "  print(\"C :\" + str(c) + \"m/s\")\n",
        "  print(\"e =\" + str(m * c**2) + \"joules of energy!\")\n",
        "\n",
        "if __name__ == \"__main__\":\n",
        "   energy()"
      ],
      "metadata": {
        "colab": {
          "base_uri": "https://localhost:8080/"
        },
        "id": "o9YZtBaTjUoN",
        "outputId": "7ddd4c30-2923-4399-be3a-25516b55c535"
      },
      "execution_count": 11,
      "outputs": [
        {
          "output_type": "stream",
          "name": "stdout",
          "text": [
            "02_e=mc2\n",
            "Enter kilos of mass: 450\n",
            "e = m * C^2\n",
            "Mass :450.0kg\n",
            "C :299792458m/s\n",
            "e =4.0443983043156795e+19joules of energy!\n"
          ]
        }
      ]
    },
    {
      "cell_type": "markdown",
      "source": [
        "# **03_feet_to_inches.**\n",
        "\n",
        "Problem Statement\n",
        "Converts feet to inches. Feet is an American unit of measurement. There are 12 inches per foot. Foot is the singular, and feet is the plural."
      ],
      "metadata": {
        "id": "wFcRhdmsim2n"
      }
    },
    {
      "cell_type": "code",
      "source": [
        "print(\"03_feet_to_inches.\")\n",
        "\n",
        "inch:int = 12\n",
        "\n",
        "def foot():\n",
        "  feet:int = int(input(\"Enter feet I will convert it into inches: \"))\n",
        "  print(f\"There are {feet * inch} inches in {feet} feet\")\n",
        "\n",
        "if __name__ == \"__main__\":\n",
        "   foot()\n"
      ],
      "metadata": {
        "colab": {
          "base_uri": "https://localhost:8080/"
        },
        "id": "F2wAXJYoiz0-",
        "outputId": "b4968e2e-7358-49a0-e5bc-ad94e8282b21"
      },
      "execution_count": 15,
      "outputs": [
        {
          "output_type": "stream",
          "name": "stdout",
          "text": [
            "03_feet_to_inches.\n",
            "Enter feet I will convert it into inches: 2\n",
            "There are 24 inches in 2 feet\n"
          ]
        }
      ]
    },
    {
      "cell_type": "markdown",
      "source": [
        "# **04_pythagorean_theorem**\n",
        "\n",
        "Problem Statement\n",
        "Write a program that asks the user for the lengths of the two perpendicular sides of a right triangle and outputs the length of the third side (the hypotenuse) using the Pythagorean theorem!\n",
        "\n",
        "The Pythagorean theorem, named after the ancient Greek thinker, Pythagoras, is a fundamental relation in geometry. It states that in a right triangle, the square of the hypotenuse is equal to the sum of the square of the other two sides.\n",
        "\n",
        "For instance, let's consider a right triangle ABC, with the right angle located at C. According to the Pythagorean theorem:\n",
        "\n",
        "BC ** 2 = AB ** 2 + AC ** 2\n",
        "\n",
        "Your code should read in the lengths of the sides AB and AC, and that outputs the length of the hypotenuse (BC). You will probably find math.sqrt() to be useful.\n",
        "\n",
        "Here's a sample run of the program (user input is in bold italics):\n",
        "\n",
        "Enter the length of AB: 3\n",
        "\n",
        "Enter the length of AC: 4\n",
        "\n",
        "The length of BC (the hypotenuse) is: 5.0"
      ],
      "metadata": {
        "id": "L6_E7rnl9Y5a"
      }
    },
    {
      "cell_type": "code",
      "source": [
        "print(\"04_pythagorean_theorem\")\n",
        "import math\n",
        "\n",
        "def tringle():\n",
        " ab:float = float(input(\"Enter the length of AB: \"))\n",
        " ac:float = float(input(\"Enter the length of AC: \"))\n",
        " bc:float = math.sqrt(ab**2 + ac**2)\n",
        " print(f\"The length of BC (the hypotenuse) is: \" + str(bc))\n",
        "\n",
        "if __name__ == \"__main__\":\n",
        "   tringle()\n",
        ""
      ],
      "metadata": {
        "colab": {
          "base_uri": "https://localhost:8080/"
        },
        "id": "f7w17MHE93Ni",
        "outputId": "c190e7e7-7e19-40ef-fc35-40b413c2fb88"
      },
      "execution_count": 19,
      "outputs": [
        {
          "output_type": "stream",
          "name": "stdout",
          "text": [
            "04_pythagorean_theorem\n",
            "Enter the length of AB: 4.9\n",
            "Enter the length of AC: 8.9\n",
            "The length of BC (the hypotenuse) is: 10.159724405711014\n"
          ]
        }
      ]
    },
    {
      "cell_type": "markdown",
      "source": [
        "# **05_remainder_division**\n",
        "\n",
        "Problem Statement\n",
        "Ask the user for two numbers, one at a time, and then print the result of dividing the first number by the second and also the remainder of the division.\n",
        "\n",
        "Here's a sample run of the program (user input is in bold italics):\n",
        "\n",
        "Please enter an integer to be divided: 5\n",
        "\n",
        "Please enter an integer to divide by: 3\n",
        "\n",
        "The result of this division is 1 with a remainder of 2"
      ],
      "metadata": {
        "id": "eI87QQ_RAigF"
      }
    },
    {
      "cell_type": "code",
      "source": [
        "print(\"05_remainder_division\")\n",
        "\n",
        "def remainder():\n",
        "  num1:int = int(input(\"Please enter an integer to be divided: \"))\n",
        "  num2:int = int(input(\"Please enter an integer to divide by: \"))\n",
        "  quotient :int = num1 // num2\n",
        "  remainder:int = num1 % num2\n",
        "  print(f\"The result of this division is {quotient } with a {remainder}\")\n",
        "\n",
        "if __name__ == \"__main__\":\n",
        "   remainder()"
      ],
      "metadata": {
        "colab": {
          "base_uri": "https://localhost:8080/"
        },
        "id": "BDuNT4M1Ar3y",
        "outputId": "10a3c300-32a8-4bc7-ecbf-ce862d55e070"
      },
      "execution_count": 21,
      "outputs": [
        {
          "output_type": "stream",
          "name": "stdout",
          "text": [
            "05_remainder_division\n",
            "Please enter an integer to be divided: 56\n",
            "Please enter an integer to divide by: 3\n",
            "The result of this division is 18 with a 2\n"
          ]
        }
      ]
    },
    {
      "cell_type": "markdown",
      "source": [
        "# **06_rolldice.**\n",
        "Problem Statement\n",
        "Simulate rolling two dice, and prints results of each roll as well as the total."
      ],
      "metadata": {
        "id": "HI-jg_wfRGN1"
      }
    },
    {
      "cell_type": "code",
      "source": [
        "print(\"06_rolldice.\")\n",
        "import random\n",
        "\n",
        "def rolldice():\n",
        "  dice1:int = random.randint(1,6)\n",
        "  dice2:int = random.randint(1,6)\n",
        "  total:int = dice1 + dice2\n",
        "  print(f\"Dice 1: {dice1}\")\n",
        "  print(f\"Dice 2: {dice2}\")\n",
        "  print(f\"Total of two dies:{total}\")\n",
        "if __name__ == \"__main__\":\n",
        "   rolldice()"
      ],
      "metadata": {
        "colab": {
          "base_uri": "https://localhost:8080/"
        },
        "id": "bnYHoFtVRXAt",
        "outputId": "a2913744-e4aa-48cc-dc86-e850d2d4c574"
      },
      "execution_count": 28,
      "outputs": [
        {
          "output_type": "stream",
          "name": "stdout",
          "text": [
            "06_rolldice.\n",
            "Dice 1: 4\n",
            "Dice 2: 4\n",
            "Total of two dies:8\n"
          ]
        }
      ]
    },
    {
      "cell_type": "markdown",
      "source": [
        "# **06_seconds_in_year**\n",
        "\n",
        "Problem Statement\n",
        "Use Python to calculate the number of seconds in a year, and tell the user what the result is in a nice print statement that looks like this (of course the value 5 should be the calculated number instead):\n",
        "\n",
        "There are 5 seconds in a year!\n",
        "\n",
        "You should use constants for this exercise -- there are 365 days in a year, 24 hours in a day, 60 minutes in an hour, and 60 seconds per minute."
      ],
      "metadata": {
        "id": "c5KGT72cWpFH"
      }
    },
    {
      "cell_type": "code",
      "source": [
        "print(\"06_seconds_in_year\")\n",
        "\n",
        "def number_of_seconds():\n",
        "  days_in_year:int = 365\n",
        "  hours_in_day:int = 24\n",
        "  minutes_in_hour:int = 60\n",
        "  seconds_in_minute:int = 60\n",
        "  total_seconds:int = days_in_year * hours_in_day * minutes_in_hour * seconds_in_minute\n",
        "  print(f\"There are {total_seconds} seconds in a year!\")\n",
        "\n",
        "if __name__ == \"__main__\":\n",
        "   number_of_seconds()\n"
      ],
      "metadata": {
        "colab": {
          "base_uri": "https://localhost:8080/"
        },
        "id": "PkNqF7WeW4jt",
        "outputId": "c083c746-9780-471d-8f05-dbfbc0bf2164"
      },
      "execution_count": 32,
      "outputs": [
        {
          "output_type": "stream",
          "name": "stdout",
          "text": [
            "06_seconds_in_year\n",
            "There are 31536000 seconds in a year!\n"
          ]
        }
      ]
    },
    {
      "cell_type": "markdown",
      "source": [
        "# **07_tiny_mad_lib**\n",
        "\n",
        "Problem Statement\n",
        "Write a program which prompts the user for an adjective, then a noun, then a verb, and then prints a fun sentence with those words!\n",
        "\n",
        "Mad Libs is a word game where players are prompted for one word at a time, and the words are eventually filled into the blanks of a word template to make an entertaining story! We've provided you with the beginning of a sentence (the SENTENCE_START constant) which will end in a user-inputted adjective, noun, and then verb.\n",
        "\n",
        "Here's a sample run (user input is in bold italics):\n",
        "\n",
        "Please type an adjective and press enter. tiny\n",
        "\n",
        "Please type a noun and press enter. plant\n",
        "\n",
        "Please type a verb and press enter. fly\n",
        "\n",
        "Code in Place is fun. I learned to program and used Python to make my tiny plant fly!"
      ],
      "metadata": {
        "id": "WbB71kHDZ7rk"
      }
    },
    {
      "cell_type": "code",
      "source": [
        "print(\"07_tiny_mad_lib\")\n",
        "\n",
        "def mad_lib():\n",
        "  noun:str = str(input(\"Please type a noun and press enter. \"))\n",
        "  adjective:str = str(input(\"Please type an adjective and press enter. \"))\n",
        "  verb:str = str(input(\"Please type a verb and press enter. \"))\n",
        "  print(f\"Do you {verb} your {adjective} {noun} !\")\n",
        "\n",
        "if __name__ == \"__main__\":\n",
        "   mad_lib()\n"
      ],
      "metadata": {
        "colab": {
          "base_uri": "https://localhost:8080/"
        },
        "id": "izfcZATCaIQG",
        "outputId": "f0b622f0-d080-482a-fb68-22f2ca43c80b"
      },
      "execution_count": 34,
      "outputs": [
        {
          "output_type": "stream",
          "name": "stdout",
          "text": [
            "07_tiny_mad_lib\n",
            "Please type a noun and press enter. kite\n",
            "Please type an adjective and press enter. colorful\n",
            "Please type a verb and press enter. fly\n",
            "Do you fly your colorful kite !\n"
          ]
        }
      ]
    }
  ]
}
{
  "nbformat": 4,
  "nbformat_minor": 0,
  "metadata": {
    "colab": {
      "provenance": [],
      "authorship_tag": "ABX9TyOcYFAiFU7h+iuZnN9F0w0F",
      "include_colab_link": true
    },
    "kernelspec": {
      "name": "python3",
      "display_name": "Python 3"
    },
    "language_info": {
      "name": "python"
    }
  },
  "cells": [
    {
      "cell_type": "markdown",
      "metadata": {
        "id": "view-in-github",
        "colab_type": "text"
      },
      "source": [
        "<a href=\"https://colab.research.google.com/github/Ummay480/GIAIC-Python-Projects/blob/main/02_intermediate_Control_Flow_for_Console.ipynb\" target=\"_parent\"><img src=\"https://colab.research.google.com/assets/colab-badge.svg\" alt=\"Open In Colab\"/></a>"
      ]
    },
    {
      "cell_type": "markdown",
      "source": [
        "# handout/ High Low"
      ],
      "metadata": {
        "id": "AJ03LDwkQdPB"
      }
    },
    {
      "cell_type": "code",
      "execution_count": 8,
      "metadata": {
        "id": "_TkBW5GhlEKo",
        "colab": {
          "base_uri": "https://localhost:8080/"
        },
        "outputId": "abacfeca-3e26-49e3-96f2-e7d6c91cf2bd"
      },
      "outputs": [
        {
          "output_type": "stream",
          "name": "stdout",
          "text": [
            " High Low Game\n",
            "Welcome to the High Low Game\n",
            "*****************************\n",
            "Round  1\n",
            "Your Number is 41\n",
            "Do you think your number is higher or lower then the computer number? 80\n",
            "Sorry! you guessed incorrect, the Computer number is 10\n",
            "Your Score is 0\n",
            "\n",
            "Game Over, Thanks for Playing\n",
            "Round  2\n",
            "Your Number is 24\n",
            "Do you think your number is higher or lower then the computer number? 30\n",
            "Sorry! you guessed incorrect, the Computer number is 73\n",
            "Your Score is 0\n",
            "\n",
            "Game Over, Thanks for Playing\n",
            "Round  3\n",
            "Your Number is 35\n",
            "Do you think your number is higher or lower then the computer number? 60\n",
            "Sorry! you guessed incorrect, the Computer number is 93\n",
            "Your Score is 0\n",
            "\n",
            "Game Over, Thanks for Playing\n",
            "Round  4\n",
            "Your Number is 100\n",
            "Do you think your number is higher or lower then the computer number? 00\n",
            "Sorry! you guessed incorrect, the Computer number is 18\n",
            "Your Score is 0\n",
            "\n",
            "Game Over, Thanks for Playing\n",
            "Round  5\n",
            "Your Number is 85\n",
            "Do you think your number is higher or lower then the computer number? 70\n",
            "Sorry! you guessed incorrect, the Computer number is 57\n",
            "Your Score is 0\n",
            "\n",
            "Game Over, Thanks for Playing\n"
          ]
        }
      ],
      "source": [
        "print(\" High Low Game\")\n",
        "import random\n",
        "\n",
        "round = 5\n",
        "\n",
        "def main():\n",
        "  print(\"Welcome to the High Low Game\")\n",
        "  print(\"*****************************\")\n",
        "\n",
        "  your_score = 0\n",
        "  for i in range(round):\n",
        "        print(\"Round \", i+1)\n",
        "\n",
        "        computer_number = int = random.randint(1, 100)\n",
        "        your_number : int = random.randint(1, 100)\n",
        "        print(\"Your Number is\", your_number)\n",
        "\n",
        "        choice:str = input(\"Do you think your number is higher or lower then the computer number? \")\n",
        "        heigher_and_correct:bool = choice == \"higher\" and your_number > computer_number\n",
        "        lower_and_correct:bool = choice == \"lower\" and your_number < computer_number\n",
        "\n",
        "        if heigher_and_correct or lower_and_correct:\n",
        "          print(\"Congratulations! You are correct, the Computer number is\", computer_number)\n",
        "\n",
        "\n",
        "          your_score += 1\n",
        "        else:\n",
        "          print(\"Sorry! you guessed incorrect, the Computer number is\", computer_number)\n",
        "\n",
        "          print(\"Your Score is\", your_score)\n",
        "          print()\n",
        "\n",
        "        print(\"Game Over, Thanks for Playing\")\n",
        "\n",
        "if __name__ == \"__main__\":\n",
        "    main()\n",
        "\n",
        "\n"
      ]
    },
    {
      "cell_type": "markdown",
      "source": [
        "# Planetary Weight **Calculator**"
      ],
      "metadata": {
        "id": "B-YN7o2kcHWF"
      }
    },
    {
      "cell_type": "code",
      "source": [
        "print(\"Planetary Weight Calculator\")\n",
        "\n",
        "def main():\n",
        "    print(\"Welcome to the Planetary Weight Calculator\")\n",
        "    print(\"*******************************************\")\n",
        "\n",
        "earth_weight = float(input(\"Enter your weight on Earth: \"))\n",
        "gravity_ratio = {\n",
        "      \"Mercury\": 0.38,\n",
        "      \"Venus\": 0.91,\n",
        "      \"Mars\": 0.38,\n",
        "      \"Jupiter\": 2.54,\n",
        "      \"Saturn\": 1.06,\n",
        "      \"Uranus\": 0.89,\n",
        "      \"Neptune\": 1.12\n",
        "    }\n",
        "\n",
        "print(\"Select a Planet\")\n",
        "for planet in gravity_ratio:\n",
        "      print(planet)\n",
        "\n",
        "planet_choice: str = input(\"Enter the name of the planet: \").title()#added parenthesis here\n",
        "if planet_choice in gravity_ratio:\n",
        "      planet_weight: float = earth_weight * gravity_ratio[planet_choice]\n",
        "      print(f\"Your weight on\", planet_choice, \"is\", planet_weight, \"kg\")\n",
        "else:\n",
        "      print(\"Invalid planet choice\")\n",
        "\n",
        "if __name__ == \"__main__\":\n",
        "    main()\n"
      ],
      "metadata": {
        "colab": {
          "base_uri": "https://localhost:8080/"
        },
        "id": "vzgblUX6cK-k",
        "outputId": "e58ed2f2-2ed2-4963-b612-0f38e02e3cc8"
      },
      "execution_count": 21,
      "outputs": [
        {
          "output_type": "stream",
          "name": "stdout",
          "text": [
            "Planetary Weight Calculator\n",
            "Enter your weight on Earth: 20\n",
            "Select a Planet\n",
            "Mercury\n",
            "Venus\n",
            "Mars\n",
            "Jupiter\n",
            "Saturn\n",
            "Uranus\n",
            "Neptune\n",
            "Enter the name of the planet: mars\n",
            "Your weight on Mars is 7.6 kg\n",
            "Welcome to the Planetary Weight Calculator\n",
            "*******************************************\n"
          ]
        }
      ]
    },
    {
      "cell_type": "markdown",
      "source": [
        "# **Lists and Dicts**\n",
        "\n"
      ],
      "metadata": {
        "id": "FD1v7UAcO2H6"
      }
    },
    {
      "cell_type": "code",
      "source": [
        "print(\"Lists and Dicts\")\n",
        "\n",
        "my_list = [\"mango\", \"peer\", \"orange\", \"grapes\"]\n",
        "def access_element(my_list, index):\n",
        "  \"\"\"return the elements at the specified index, or error message if index is out of range\"\"\"\n",
        "  if index >= 0 and index < len(my_list):\n",
        "        return f\" Element at index {index} is {my_list[index]}\"\n",
        "  else:\n",
        "        return \"Index out of range\"\n",
        "\n",
        "def modify_element(my_list, index, new_value):\n",
        "  \"\"\"modify the element at the specified index with the new value, or error message if index is out of range\"\"\"\n",
        "  if index >= 0 and index < len(my_list):\n",
        "      old_value = my_list[index]\n",
        "      my_list[index] = new_value\n",
        "      return f\"Element at index {index} has been modified from {old_value} to {new_value}\"\n",
        "\n",
        "  else:\n",
        "        return \"Index out of range\"\n",
        "\n",
        "def slice_list(my_list, start, end):\n",
        "  \"\"\"return a slice of the list from start index to end index\"\"\"\n",
        "  if start >= 0 and end <= len(my_list) and start <= end:\n",
        "        return slice_list, my_list[start:end]\n",
        "  else:\n",
        "        return \"Invalid slice indices\"\n",
        "\n",
        "def list_game():\n",
        "  print(\"\\n Welcome to the list manupilation game!\")\n",
        "  my_list = [\"mango\", \"peer\", \"orange\", \"grapes\"]\n",
        "\n",
        "  while True:\n",
        "    print(\"\\n Current list:\", my_list)\n",
        "    print(\"\\n Choose an option:\")\n",
        "    print(\"1. Access element\")\n",
        "    print(\"2. Modify element\")\n",
        "    print(\"3. Slice list\")\n",
        "    print(\"4. Exit\")\n",
        "\n",
        "    choice = input(\"Enter your choice (1-4): \")\n",
        "\n",
        "    if choice == \"1\":\n",
        "      index = int(input(\"Enter the element that you want to access: \"))\n",
        "      print(access_element(my_list, index))\n",
        "\n",
        "    elif choice == \"2\":\n",
        "      index = int(input(\"Enter the index of the element that you want to modify: \"))\n",
        "      new_value = input(\"Enter the new value: \")\n",
        "      print(modify_element(my_list, index, new_value))\n",
        "\n",
        "    elif choice == \"3\":\n",
        "      start = int(input(\"Enter the start index for slicing: \"))\n",
        "      end = int(input(\"Enter the end index for slicing: \"))\n",
        "      print(slice_list(my_list, start, end))\n",
        "\n",
        "    elif choice == \"4\":\n",
        "      print(\"Thanks for Plying Goodbye!\")\n",
        "      break\n",
        "\n",
        "    else:\n",
        "      print(\"Invalid choice. Please enter a number between 1 and 4.\")\n",
        "\n",
        "if __name__ == \"__main__\":\n",
        "    list_game()\n",
        "\n",
        "\n",
        "\n",
        "\n",
        "\n"
      ],
      "metadata": {
        "colab": {
          "base_uri": "https://localhost:8080/"
        },
        "id": "RbQYtVEuPHAo",
        "outputId": "518bcd0b-f684-4310-fc13-18c7d1d78818"
      },
      "execution_count": null,
      "outputs": [
        {
          "output_type": "stream",
          "name": "stdout",
          "text": [
            "Lists and Dicts\n",
            "\n",
            " Welcome to the list manupilation game!\n",
            "\n",
            " Current list: ['mango', 'peer', 'orange', 'grapes']\n",
            "\n",
            " Choose an option:\n",
            "1. Access element\n",
            "2. Modify element\n",
            "3. Slice list\n",
            "4. Exit\n",
            "Enter your choice (1-4): 2\n",
            "Enter the index of the element that you want to modify: 2\n",
            "Enter the new value: papaya\n",
            "Element at index 2 has been modified from orange to papaya\n",
            "\n",
            " Current list: ['mango', 'peer', 'papaya', 'grapes']\n",
            "\n",
            " Choose an option:\n",
            "1. Access element\n",
            "2. Modify element\n",
            "3. Slice list\n",
            "4. Exit\n"
          ]
        }
      ]
    }
  ]
}